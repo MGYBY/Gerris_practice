{
 "cells": [
  {
   "cell_type": "code",
   "execution_count": 1,
   "metadata": {},
   "outputs": [],
   "source": [
    "import numpy as np"
   ]
  },
  {
   "cell_type": "code",
   "execution_count": 2,
   "metadata": {},
   "outputs": [],
   "source": [
    "noObs = np.loadtxt('./obsGauge_8', usecols = np.arange(0,7), skiprows=1, dtype=np.float32)"
   ]
  },
  {
   "cell_type": "code",
   "execution_count": 3,
   "metadata": {},
   "outputs": [
    {
     "data": {
      "text/plain": [
       "(38269, 7)"
      ]
     },
     "execution_count": 3,
     "metadata": {},
     "output_type": "execute_result"
    }
   ],
   "source": [
    "np.shape(noObs)"
   ]
  },
  {
   "cell_type": "code",
   "execution_count": 3,
   "metadata": {},
   "outputs": [],
   "source": [
    "gauge_time = noObs[:, 0];\n",
    "gauge_h = noObs[:, 4];\n",
    "gauge_uh = noObs[:, 5];"
   ]
  },
  {
   "cell_type": "code",
   "execution_count": 4,
   "metadata": {},
   "outputs": [],
   "source": [
    "gauge_u = np.zeros_like(gauge_h);\n",
    "for i in range(0, np.size(gauge_h)):\n",
    "    if(gauge_h[i]<1e-6):\n",
    "        gauge_u[i] = 0.0;\n",
    "    else:\n",
    "        gauge_u[i] =gauge_uh[i]/gauge_h[i];"
   ]
  },
  {
   "cell_type": "code",
   "execution_count": 11,
   "metadata": {},
   "outputs": [
    {
     "data": {
      "text/plain": [
       "(2071,)"
      ]
     },
     "execution_count": 11,
     "metadata": {},
     "output_type": "execute_result"
    }
   ],
   "source": [
    "np.shape(gauge_u)"
   ]
  },
  {
   "cell_type": "code",
   "execution_count": 5,
   "metadata": {},
   "outputs": [],
   "source": [
    "force = np.loadtxt('./f_8', usecols = (0,1), dtype=np.float32)"
   ]
  },
  {
   "cell_type": "code",
   "execution_count": 7,
   "metadata": {},
   "outputs": [
    {
     "data": {
      "text/plain": [
       "(21375, 2)"
      ]
     },
     "execution_count": 7,
     "metadata": {},
     "output_type": "execute_result"
    }
   ],
   "source": [
    "np.shape(force)"
   ]
  },
  {
   "cell_type": "code",
   "execution_count": 6,
   "metadata": {},
   "outputs": [],
   "source": [
    "# calculate the dimensionless drag coefficient C_D\n",
    "force_t = force[:, 0];\n",
    "force_f = force[:, 1];\n",
    "cd = np.zeros_like(force);\n",
    "rho = 1000.0\n",
    "width = 0.30\n",
    "# interpolation to get free-stream velocity\n",
    "for i in range(0, int(np.prod(force_t.shape))-1):\n",
    "    for j in range(0, int(np.prod(gauge_time.shape))-2):\n",
    "        free_stream_u = 0.0\n",
    "        free_stream_h = 0.0\n",
    "        if(gauge_time[j]<=force_t[i] and gauge_time[j+1]>=force_t[i]):\n",
    "            free_stream_u = gauge_u[j]+(force_t[i]-gauge_time[j])*(gauge_u[j+1]-gauge_u[j])/(gauge_time[j+1]-gauge_time[j]);\n",
    "            free_stream_h = gauge_h[j]+(force_t[i]-gauge_time[j])*(gauge_h[j+1]-gauge_h[j])/(gauge_time[j+1]-gauge_time[j]);\n",
    "            break\n",
    "    if (free_stream_h<1e-6):\n",
    "        cd[i, 1]=0.0\n",
    "        cd[i, 0]=force_t[i]\n",
    "    else:\n",
    "        # calculate CD\n",
    "        cd[i, 1] = force_f[i]/(0.50*rho*width*free_stream_h*free_stream_u**2.0)\n",
    "        cd[i, 0]=force_t[i]"
   ]
  },
  {
   "cell_type": "code",
   "execution_count": 43,
   "metadata": {},
   "outputs": [
    {
     "data": {
      "text/plain": [
       "array([[0.0000000e+00, 0.0000000e+00],\n",
       "       [1.2500000e-03, 0.0000000e+00],\n",
       "       [2.4691401e-03, 0.0000000e+00],\n",
       "       ...,\n",
       "       [3.9991000e+00, 2.3988349e+00],\n",
       "       [3.9995501e+00, 2.3786845e+00],\n",
       "       [0.0000000e+00, 0.0000000e+00]], dtype=float32)"
      ]
     },
     "execution_count": 43,
     "metadata": {},
     "output_type": "execute_result"
    }
   ],
   "source": [
    "# np.prod(cd.shape)\n",
    "# np.size(cd)\n",
    "cd"
   ]
  },
  {
   "cell_type": "code",
   "execution_count": 7,
   "metadata": {},
   "outputs": [],
   "source": [
    "import csv"
   ]
  },
  {
   "cell_type": "code",
   "execution_count": 8,
   "metadata": {},
   "outputs": [],
   "source": [
    "file_name = 'cd_gauge8_f8.txt'\n",
    "cd_t = cd[:,0]\n",
    "cd_val = cd[:,1]\n",
    "with open(file_name, 'w') as f:\n",
    "    writer = csv.writer(f, delimiter=' ')\n",
    "    writer.writerows(zip(np.transpose(cd_t), np.transpose(cd_val)))"
   ]
  },
  {
   "cell_type": "code",
   "execution_count": 9,
   "metadata": {},
   "outputs": [
    {
     "data": {
      "text/plain": [
       "[<matplotlib.lines.Line2D at 0x7f0aad6d24c0>]"
      ]
     },
     "execution_count": 9,
     "metadata": {},
     "output_type": "execute_result"
    },
    {
     "data": {
      "image/png": "[encoded data removed]",
      "text/plain": [
       "<Figure size 432x288 with 1 Axes>"
      ]
     },
     "metadata": {
      "needs_background": "light"
     },
     "output_type": "display_data"
    }
   ],
   "source": [
    "import matplotlib.pyplot as plt\n",
    "plt.plot(cd_t, cd_val, color=\"blue\")"
   ]
  },
  {
   "cell_type": "code",
   "execution_count": null,
   "metadata": {},
   "outputs": [],
   "source": []
  }
 ],
 "metadata": {
  "kernelspec": {
   "display_name": "Python 3",
   "language": "python",
   "name": "python3"
  },
  "language_info": {
   "codemirror_mode": {
    "name": "ipython",
    "version": 3
   },
   "file_extension": ".py",
   "mimetype": "text/x-python",
   "name": "python",
   "nbconvert_exporter": "python",
   "pygments_lexer": "ipython3",
   "version": "3.8.10"
  }
 },
 "nbformat": 4,
 "nbformat_minor": 4
}
