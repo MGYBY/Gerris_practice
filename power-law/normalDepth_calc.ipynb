{
 "cells": [
  {
   "cell_type": "code",
   "execution_count": 1,
   "id": "ef0ab2bb",
   "metadata": {},
   "outputs": [],
   "source": [
    "sin_theta = 0.099833\n",
    "cos_theta = (1.0-sin_theta**2)**(0.5)\n",
    "tan_theta = sin_theta/cos_theta"
   ]
  },
  {
   "cell_type": "code",
   "execution_count": 2,
   "id": "9f9a1682",
   "metadata": {},
   "outputs": [],
   "source": [
    "grav = 9.81\n",
    "g_prime = 9.81*cos_theta"
   ]
  },
  {
   "cell_type": "code",
   "execution_count": 3,
   "id": "ebaa5d9f",
   "metadata": {},
   "outputs": [
    {
     "data": {
      "text/plain": [
       "9.760991271475014"
      ]
     },
     "execution_count": 3,
     "metadata": {},
     "output_type": "execute_result"
    }
   ],
   "source": [
    "g_prime"
   ]
  },
  {
   "cell_type": "code",
   "execution_count": 4,
   "id": "35869014",
   "metadata": {},
   "outputs": [],
   "source": [
    "h_norm = 0.0024\n",
    "mu_n = 0.14\n",
    "rhoMud = 1120.0\n",
    "n_power= 0.40"
   ]
  },
  {
   "cell_type": "code",
   "execution_count": 5,
   "id": "e3f3c425",
   "metadata": {},
   "outputs": [],
   "source": [
    "def mean_vel(n, rho, gravity, so, mun, h):\n",
    "    return (n/(1.0+2.0*n)*((rho*gravity*so/mun*(h**(1.0+n)))**(1.0/n)))"
   ]
  },
  {
   "cell_type": "code",
   "execution_count": 6,
   "id": "314cab06",
   "metadata": {},
   "outputs": [
    {
     "data": {
      "text/plain": [
       "0.8177294201004582"
      ]
     },
     "execution_count": 6,
     "metadata": {},
     "output_type": "execute_result"
    }
   ],
   "source": [
    "u_norm = mean_vel(n_power, rhoMud, grav, sin_theta, mu_n, h_norm)\n",
    "u_norm"
   ]
  },
  {
   "cell_type": "code",
   "execution_count": 7,
   "id": "7755ca7e",
   "metadata": {},
   "outputs": [
    {
     "data": {
      "text/plain": [
       "0.828032399650359"
      ]
     },
     "execution_count": 7,
     "metadata": {},
     "output_type": "execute_result"
    }
   ],
   "source": [
    "# tan based mean vel calc\n",
    "u_norm2 = mean_vel(n_power, rhoMud, grav, tan_theta, mu_n, h_norm)\n",
    "u_norm2"
   ]
  },
  {
   "cell_type": "code",
   "execution_count": 1,
   "id": "5a91f94b",
   "metadata": {},
   "outputs": [],
   "source": [
    "import sympy as sp"
   ]
  },
  {
   "cell_type": "code",
   "execution_count": 2,
   "id": "fe8747d6",
   "metadata": {},
   "outputs": [],
   "source": [
    "ns, rhos, gs, sins, muns, hs = sp.symbols(\"ns, rhos, gs, sins, muns, hs\")"
   ]
  },
  {
   "cell_type": "code",
   "execution_count": 21,
   "id": "28061565",
   "metadata": {},
   "outputs": [],
   "source": [
    "uns = sp.symbols(\"uns\")\n",
    "expr_normU =  ns/(1.0+2.0*ns)*((rhos*gs*sins/muns*(hs**(1.0+ns)))**(1.0/ns))-uns"
   ]
  },
  {
   "cell_type": "code",
   "execution_count": 22,
   "id": "b039d7ea",
   "metadata": {},
   "outputs": [
    {
     "data": {
      "text/latex": [
       "$\\displaystyle 44.8806348576903 \\left(hs^{1.4}\\right)^{2.5} - 6.5$"
      ],
      "text/plain": [
       "44.8806348576903*(hs**1.4)**2.5 - 6.5"
      ]
     },
     "execution_count": 22,
     "metadata": {},
     "output_type": "execute_result"
    }
   ],
   "source": [
    "expr_normU_val = expr_normU.evalf(subs={ns:n_power, rhos:rhoMud, gs:grav, sins:sin_theta, muns:mu_n, uns:6.5})\n",
    "expr_normU_val"
   ]
  },
  {
   "cell_type": "code",
   "execution_count": 29,
   "id": "7e53fc68",
   "metadata": {},
   "outputs": [
    {
     "data": {
      "text/latex": [
       "$\\displaystyle 44.8806348576903 \\left(hs^{1.4}\\right)^{2.5} - 6.5$"
      ],
      "text/plain": [
       "44.8806348576903*(hs**1.4)**2.5 - 6.5"
      ]
     },
     "execution_count": 29,
     "metadata": {},
     "output_type": "execute_result"
    }
   ],
   "source": [
    "expr_normU_val"
   ]
  },
  {
   "cell_type": "code",
   "execution_count": 30,
   "id": "fa68a00e",
   "metadata": {},
   "outputs": [
    {
     "data": {
      "text/latex": [
       "$\\displaystyle 0.575763466308667$"
      ],
      "text/plain": [
       "0.575763466308667"
      ]
     },
     "execution_count": 30,
     "metadata": {},
     "output_type": "execute_result"
    }
   ],
   "source": [
    "sp.nsolve(expr_normU_val, 2)"
   ]
  },
  {
   "cell_type": "code",
   "execution_count": 26,
   "id": "901181cb",
   "metadata": {},
   "outputs": [
    {
     "data": {
      "text/latex": [
       "$\\displaystyle 1.00910829922938$"
      ],
      "text/plain": [
       "1.00910829922938"
      ]
     },
     "execution_count": 26,
     "metadata": {},
     "output_type": "execute_result"
    }
   ],
   "source": [
    "expr_normU_val.evalf(subs={hs:0.6})\n",
    "\n"
   ]
  },
  {
   "cell_type": "code",
   "execution_count": 27,
   "id": "d32ea257",
   "metadata": {},
   "outputs": [
    {
     "data": {
      "text/latex": [
       "$\\displaystyle -4.6833596289965$"
      ],
      "text/plain": [
       "-4.68335962899650"
      ]
     },
     "execution_count": 27,
     "metadata": {},
     "output_type": "execute_result"
    }
   ],
   "source": [
    "expr_normU_val.evalf(subs={hs:0.4})"
   ]
  },
  {
   "cell_type": "code",
   "execution_count": 12,
   "id": "07b0e64a",
   "metadata": {},
   "outputs": [],
   "source": [
    "h_norm = 0.575763466308667"
   ]
  },
  {
   "cell_type": "code",
   "execution_count": 13,
   "id": "4c01c644",
   "metadata": {},
   "outputs": [],
   "source": [
    "rhs_term1 = grav*tan_theta*h_norm"
   ]
  },
  {
   "cell_type": "code",
   "execution_count": 14,
   "id": "c2bbeb5e",
   "metadata": {},
   "outputs": [
    {
     "data": {
      "text/plain": [
       "0.33950603812992974"
      ]
     },
     "execution_count": 14,
     "metadata": {},
     "output_type": "execute_result"
    }
   ],
   "source": [
    "rhs_term1"
   ]
  },
  {
   "cell_type": "code",
   "execution_count": 16,
   "id": "592b6f18",
   "metadata": {},
   "outputs": [
    {
     "data": {
      "text/plain": [
       "0.3388943762692814"
      ]
     },
     "execution_count": 16,
     "metadata": {},
     "output_type": "execute_result"
    }
   ],
   "source": [
    "rhs_term2 = mu_n/rhoMud*((1.0+2.0*n_power)/n_power*6.5/h_norm)**(n_power)\n",
    "rhs_term2"
   ]
  },
  {
   "cell_type": "code",
   "execution_count": 11,
   "id": "abcff2f8",
   "metadata": {},
   "outputs": [
    {
     "data": {
      "text/plain": [
       "0.33889448605705613"
      ]
     },
     "execution_count": 11,
     "metadata": {},
     "output_type": "execute_result"
    }
   ],
   "source": [
    "rhs_term2"
   ]
  },
  {
   "cell_type": "code",
   "execution_count": 9,
   "id": "80b7a7c4",
   "metadata": {},
   "outputs": [
    {
     "data": {
      "text/plain": [
       "0.21600000000000003"
      ]
     },
     "execution_count": 9,
     "metadata": {},
     "output_type": "execute_result"
    }
   ],
   "source": [
    "h_norm * 8.0 * 10.0\n",
    "h_norm * 8.0 * 10.0 /2.0"
   ]
  },
  {
   "cell_type": "code",
   "execution_count": 10,
   "id": "c3ee6b0b",
   "metadata": {},
   "outputs": [
    {
     "data": {
      "text/plain": [
       "0.43200000000000005"
      ]
     },
     "execution_count": 10,
     "metadata": {},
     "output_type": "execute_result"
    }
   ],
   "source": [
    "h_norm * 8.0 * 10.0"
   ]
  },
  {
   "cell_type": "code",
   "execution_count": 26,
   "id": "698a2b98",
   "metadata": {},
   "outputs": [],
   "source": [
    "# self-created case\n",
    "sin_theta = 0.006\n",
    "cos_theta = (1.0-sin_theta**2)**(0.5)\n",
    "tan_theta = sin_theta/cos_theta"
   ]
  },
  {
   "cell_type": "code",
   "execution_count": 2,
   "id": "698d02a4",
   "metadata": {},
   "outputs": [],
   "source": [
    "grav = 9.81\n",
    "g_prime = 9.81*cos_theta"
   ]
  },
  {
   "cell_type": "code",
   "execution_count": 3,
   "id": "82e65d32",
   "metadata": {},
   "outputs": [],
   "source": [
    "import sympy as sp"
   ]
  },
  {
   "cell_type": "code",
   "execution_count": 43,
   "id": "93f9ab68",
   "metadata": {},
   "outputs": [],
   "source": [
    "ns, rhos, gs, sins, muns, hs = sp.symbols(\"ns, rhos, gs, sins, muns, hs\")\n",
    "uns = sp.symbols(\"uns\")\n",
    "expr_normU =  ns/(1.0+2.0*ns)*((rhos*gs*sins/muns*(hs**(1.0+ns)))**(1.0/ns))-uns\n",
    "expr_fr = uns/(gs*hs*cos_theta)**(0.5)-0.6"
   ]
  },
  {
   "cell_type": "code",
   "execution_count": 44,
   "id": "2630e3b8",
   "metadata": {},
   "outputs": [],
   "source": [
    "expr_normU_val = expr_normU.evalf(subs={ns:0.40, rhos:1120.0, gs:9.81, sins:sin_theta, muns:0.140})\n",
    "expr_fr_val = expr_fr.evalf(subs={ns:0.40, rhos:1120.0, gs:9.81, sins:sin_theta, muns:0.140})"
   ]
  },
  {
   "cell_type": "code",
   "execution_count": 7,
   "id": "c55e4d85",
   "metadata": {},
   "outputs": [
    {
     "data": {
      "text/latex": [
       "$\\displaystyle - uns + 222.175728339417 \\left(hs^{1.3}\\right)^{3.33333333333333}$"
      ],
      "text/plain": [
       "-uns + 222.175728339417*(hs**1.3)**3.33333333333333"
      ]
     },
     "execution_count": 7,
     "metadata": {},
     "output_type": "execute_result"
    }
   ],
   "source": [
    "expr_normU_val"
   ]
  },
  {
   "cell_type": "code",
   "execution_count": 45,
   "id": "b12ed381",
   "metadata": {},
   "outputs": [
    {
     "data": {
      "text/latex": [
       "$\\displaystyle \\left[\\begin{matrix}0.0120681189567931\\\\0.206443701151344\\end{matrix}\\right]$"
      ],
      "text/plain": [
       "Matrix([\n",
       "[0.0120681189567931],\n",
       "[ 0.206443701151344]])"
      ]
     },
     "execution_count": 45,
     "metadata": {},
     "output_type": "execute_result"
    }
   ],
   "source": [
    "sp.nsolve((expr_normU_val, expr_fr_val), (hs, uns), (0.01, 0.5))"
   ]
  },
  {
   "cell_type": "code",
   "execution_count": 9,
   "id": "dd52637c",
   "metadata": {},
   "outputs": [],
   "source": [
    "expr_fr_val_test = expr_fr.evalf(subs={ns:0.40, rhos:1120.0, gs:9.81, sins:sin_theta, muns:0.14, hs:0.053715623675, uns:0.4355480})"
   ]
  },
  {
   "cell_type": "code",
   "execution_count": 10,
   "id": "da25c260",
   "metadata": {},
   "outputs": [
    {
     "data": {
      "text/latex": [
       "$\\displaystyle -5.7353027272948 \\cdot 10^{-8}$"
      ],
      "text/plain": [
       "-5.73530272729480e-8"
      ]
     },
     "execution_count": 10,
     "metadata": {},
     "output_type": "execute_result"
    }
   ],
   "source": [
    "expr_fr_val_test"
   ]
  },
  {
   "cell_type": "code",
   "execution_count": 7,
   "id": "38f8d111",
   "metadata": {},
   "outputs": [],
   "source": [
    "re_exp = (rhos*((uns)**(2-ns))*((hs)**(ns)))/muns"
   ]
  },
  {
   "cell_type": "code",
   "execution_count": 46,
   "id": "b9519bc2",
   "metadata": {},
   "outputs": [
    {
     "data": {
      "text/latex": [
       "$\\displaystyle 109.503610422558$"
      ],
      "text/plain": [
       "109.503610422558"
      ]
     },
     "execution_count": 46,
     "metadata": {},
     "output_type": "execute_result"
    }
   ],
   "source": [
    "re_exp.evalf(subs={ns:0.40, rhos:1120.0, gs:9.81, sins:sin_theta, muns:0.140, hs:0.01206811895679, uns:0.206443701151344})"
   ]
  },
  {
   "cell_type": "code",
   "execution_count": null,
   "id": "0c181839",
   "metadata": {},
   "outputs": [],
   "source": []
  }
 ],
 "metadata": {
  "kernelspec": {
   "display_name": "Python 3 (ipykernel)",
   "language": "python",
   "name": "python3"
  },
  "language_info": {
   "codemirror_mode": {
    "name": "ipython",
    "version": 3
   },
   "file_extension": ".py",
   "mimetype": "text/x-python",
   "name": "python",
   "nbconvert_exporter": "python",
   "pygments_lexer": "ipython3",
   "version": "3.8.10"
  }
 },
 "nbformat": 4,
 "nbformat_minor": 5
}
