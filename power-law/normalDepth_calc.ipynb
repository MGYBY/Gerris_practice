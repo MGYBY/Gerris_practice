{
 "cells": [
  {
   "cell_type": "code",
   "execution_count": 3,
   "id": "ef0ab2bb",
   "metadata": {},
   "outputs": [],
   "source": [
    "sin_theta = 0.06\n",
    "cos_theta = (1.0-sin_theta**2)**(0.5)\n",
    "tan_theta = sin_theta/cos_theta"
   ]
  },
  {
   "cell_type": "code",
   "execution_count": 7,
   "id": "9f9a1682",
   "metadata": {},
   "outputs": [],
   "source": [
    "grav = 9.81\n",
    "g_prime = 9.81*cos_theta"
   ]
  },
  {
   "cell_type": "code",
   "execution_count": 3,
   "id": "ebaa5d9f",
   "metadata": {},
   "outputs": [
    {
     "data": {
      "text/plain": [
       "9.792326079129515"
      ]
     },
     "execution_count": 3,
     "metadata": {},
     "output_type": "execute_result"
    }
   ],
   "source": [
    "g_prime"
   ]
  },
  {
   "cell_type": "code",
   "execution_count": 5,
   "id": "35869014",
   "metadata": {},
   "outputs": [],
   "source": [
    "h_norm = 1.40\n",
    "mu_n = 150.0\n",
    "rhoMud = 2130.0\n",
    "n_power=0.4"
   ]
  },
  {
   "cell_type": "code",
   "execution_count": 8,
   "id": "e3f3c425",
   "metadata": {},
   "outputs": [],
   "source": [
    "def mean_vel(n, rho, gravity, so, mun, h):\n",
    "    return (n/(1.0+2.0*n)*((rho*gravity*so/mun*(h**(1.0+n)))**(1.0/n)))"
   ]
  },
  {
   "cell_type": "code",
   "execution_count": 19,
   "id": "314cab06",
   "metadata": {},
   "outputs": [
    {
     "data": {
      "text/plain": [
       "145.7159581940003"
      ]
     },
     "execution_count": 19,
     "metadata": {},
     "output_type": "execute_result"
    }
   ],
   "source": [
    "u_norm = mean_vel(n_power, rhoMud, grav, sin_theta, mu_n, h_norm)\n",
    "u_norm"
   ]
  },
  {
   "cell_type": "code",
   "execution_count": 1,
   "id": "5a91f94b",
   "metadata": {},
   "outputs": [],
   "source": [
    "import sympy as sp"
   ]
  },
  {
   "cell_type": "code",
   "execution_count": 2,
   "id": "fe8747d6",
   "metadata": {},
   "outputs": [],
   "source": [
    "ns, rhos, gs, sins, muns, hs = sp.symbols(\"ns, rhos, gs, sins, muns, hs\")"
   ]
  },
  {
   "cell_type": "code",
   "execution_count": 21,
   "id": "28061565",
   "metadata": {},
   "outputs": [],
   "source": [
    "uns = sp.symbols(\"uns\")\n",
    "expr_normU =  ns/(1.0+2.0*ns)*((rhos*gs*sins/muns*(hs**(1.0+ns)))**(1.0/ns))-uns"
   ]
  },
  {
   "cell_type": "code",
   "execution_count": 22,
   "id": "b039d7ea",
   "metadata": {},
   "outputs": [
    {
     "data": {
      "text/latex": [
       "$\\displaystyle 44.8806348576903 \\left(hs^{1.4}\\right)^{2.5} - 6.5$"
      ],
      "text/plain": [
       "44.8806348576903*(hs**1.4)**2.5 - 6.5"
      ]
     },
     "execution_count": 22,
     "metadata": {},
     "output_type": "execute_result"
    }
   ],
   "source": [
    "expr_normU_val = expr_normU.evalf(subs={ns:n_power, rhos:rhoMud, gs:grav, sins:sin_theta, muns:mu_n, uns:6.5})\n",
    "expr_normU_val"
   ]
  },
  {
   "cell_type": "code",
   "execution_count": 29,
   "id": "7e53fc68",
   "metadata": {},
   "outputs": [
    {
     "data": {
      "text/latex": [
       "$\\displaystyle 44.8806348576903 \\left(hs^{1.4}\\right)^{2.5} - 6.5$"
      ],
      "text/plain": [
       "44.8806348576903*(hs**1.4)**2.5 - 6.5"
      ]
     },
     "execution_count": 29,
     "metadata": {},
     "output_type": "execute_result"
    }
   ],
   "source": [
    "expr_normU_val"
   ]
  },
  {
   "cell_type": "code",
   "execution_count": 30,
   "id": "fa68a00e",
   "metadata": {},
   "outputs": [
    {
     "data": {
      "text/latex": [
       "$\\displaystyle 0.575763466308667$"
      ],
      "text/plain": [
       "0.575763466308667"
      ]
     },
     "execution_count": 30,
     "metadata": {},
     "output_type": "execute_result"
    }
   ],
   "source": [
    "sp.nsolve(expr_normU_val, 2)"
   ]
  },
  {
   "cell_type": "code",
   "execution_count": 26,
   "id": "901181cb",
   "metadata": {},
   "outputs": [
    {
     "data": {
      "text/latex": [
       "$\\displaystyle 1.00910829922938$"
      ],
      "text/plain": [
       "1.00910829922938"
      ]
     },
     "execution_count": 26,
     "metadata": {},
     "output_type": "execute_result"
    }
   ],
   "source": [
    "expr_normU_val.evalf(subs={hs:0.6})\n",
    "\n"
   ]
  },
  {
   "cell_type": "code",
   "execution_count": 27,
   "id": "d32ea257",
   "metadata": {},
   "outputs": [
    {
     "data": {
      "text/latex": [
       "$\\displaystyle -4.6833596289965$"
      ],
      "text/plain": [
       "-4.68335962899650"
      ]
     },
     "execution_count": 27,
     "metadata": {},
     "output_type": "execute_result"
    }
   ],
   "source": [
    "expr_normU_val.evalf(subs={hs:0.4})"
   ]
  },
  {
   "cell_type": "code",
   "execution_count": 12,
   "id": "07b0e64a",
   "metadata": {},
   "outputs": [],
   "source": [
    "h_norm = 0.575763466308667"
   ]
  },
  {
   "cell_type": "code",
   "execution_count": 13,
   "id": "4c01c644",
   "metadata": {},
   "outputs": [],
   "source": [
    "rhs_term1 = grav*tan_theta*h_norm"
   ]
  },
  {
   "cell_type": "code",
   "execution_count": 14,
   "id": "c2bbeb5e",
   "metadata": {},
   "outputs": [
    {
     "data": {
      "text/plain": [
       "0.33950603812992974"
      ]
     },
     "execution_count": 14,
     "metadata": {},
     "output_type": "execute_result"
    }
   ],
   "source": [
    "rhs_term1"
   ]
  },
  {
   "cell_type": "code",
   "execution_count": 16,
   "id": "592b6f18",
   "metadata": {},
   "outputs": [
    {
     "data": {
      "text/plain": [
       "0.3388943762692814"
      ]
     },
     "execution_count": 16,
     "metadata": {},
     "output_type": "execute_result"
    }
   ],
   "source": [
    "rhs_term2 = mu_n/rhoMud*((1.0+2.0*n_power)/n_power*6.5/h_norm)**(n_power)\n",
    "rhs_term2"
   ]
  },
  {
   "cell_type": "code",
   "execution_count": 11,
   "id": "abcff2f8",
   "metadata": {},
   "outputs": [
    {
     "data": {
      "text/plain": [
       "0.33889448605705613"
      ]
     },
     "execution_count": 11,
     "metadata": {},
     "output_type": "execute_result"
    }
   ],
   "source": [
    "rhs_term2"
   ]
  },
  {
   "cell_type": "code",
   "execution_count": null,
   "id": "80b7a7c4",
   "metadata": {},
   "outputs": [],
   "source": []
  }
 ],
 "metadata": {
  "kernelspec": {
   "display_name": "Python 3 (ipykernel)",
   "language": "python",
   "name": "python3"
  },
  "language_info": {
   "codemirror_mode": {
    "name": "ipython",
    "version": 3
   },
   "file_extension": ".py",
   "mimetype": "text/x-python",
   "name": "python",
   "nbconvert_exporter": "python",
   "pygments_lexer": "ipython3",
   "version": "3.8.10"
  }
 },
 "nbformat": 4,
 "nbformat_minor": 5
}
